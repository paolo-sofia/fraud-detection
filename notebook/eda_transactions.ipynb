{
 "cells": [
  {
   "cell_type": "code",
   "execution_count": 60,
   "id": "initial_id",
   "metadata": {
    "collapsed": true,
    "ExecuteTime": {
     "end_time": "2024-03-13T08:58:07.987502442Z",
     "start_time": "2024-03-13T08:58:07.847501497Z"
    }
   },
   "outputs": [],
   "source": [
    "import pandas as pd\n",
    "import polars as pl\n",
    "import numpy as np\n",
    "import pathlib\n",
    "import seaborn as sns\n",
    "import matplotlib.pyplot as plt\n",
    "sns.set_theme(style=\"white\")"
   ]
  },
  {
   "cell_type": "code",
   "outputs": [],
   "source": [
    "IDENTITY_INPUT_PATH = pathlib.Path(\"../data/train_identity.csv\")\n",
    "IDENTITY_OUTPUT_PATH = pathlib.Path(\"../data/train_identity_processed.parquet\")\n",
    "TRANSACTION_INPUT_PATH = pathlib.Path(\"../data/train_transaction.csv\")\n",
    "TRANSACTION_OUTPUT_PATH = pathlib.Path(\"../data/train_transaction_processed.parquet\")"
   ],
   "metadata": {
    "collapsed": false,
    "ExecuteTime": {
     "end_time": "2024-03-13T08:58:08.000549762Z",
     "start_time": "2024-03-13T08:58:07.989807245Z"
    }
   },
   "id": "c5001c8bb17cbf67",
   "execution_count": 61
  },
  {
   "cell_type": "code",
   "outputs": [],
   "source": [
    "def show_correlation(correlation: pd.DataFrame, vmin: int = -1, vmax: int = 1) -> None:\n",
    "    # Compute the correlation matrix\n",
    "    # Generate a mask for the upper triangle\n",
    "    mask = np.triu(np.ones_like(correlation, dtype=bool))\n",
    "\n",
    "    # Set up the matplotlib figure\n",
    "    f, ax = plt.subplots(figsize=(10, 10))\n",
    "\n",
    "    # Generate a custom diverging colormap\n",
    "    cmap = sns.diverging_palette(230, 20, as_cmap=True)\n",
    "\n",
    "    # Draw the heatmap with the mask and correct aspect ratio\n",
    "    sns.heatmap(correlation, mask=mask, vmin=vmin, vmax=vmax, annot=False, cmap=cmap, ax=ax)\n",
    "\n",
    "def show_correlation_with_target(correlation: pd.DataFrame, target_col: str) -> None:\n",
    "    plt.figure(figsize=(20, 20))\n",
    "    heatmap = sns.heatmap(correlation[[target_col]].sort_values(by=target_col, ascending=False).drop(index=target_col), vmin=-1, vmax=1, annot=True, cmap='BrBG')\n",
    "    heatmap.set_title('Features Correlating with Target', fontdict={'fontsize':18}, pad=10)"
   ],
   "metadata": {
    "collapsed": false,
    "ExecuteTime": {
     "end_time": "2024-03-13T08:58:08.029929056Z",
     "start_time": "2024-03-13T08:58:08.001583895Z"
    }
   },
   "id": "f3f50b2bf86c1f43",
   "execution_count": 62
  },
  {
   "cell_type": "code",
   "outputs": [
    {
     "data": {
      "text/plain": "shape: (5, 394)\n┌───────────────┬─────────┬───────────────┬────────────────┬───┬──────┬──────┬──────┬──────┐\n│ TransactionID ┆ isFraud ┆ TransactionDT ┆ TransactionAmt ┆ … ┆ V336 ┆ V337 ┆ V338 ┆ V339 │\n│ ---           ┆ ---     ┆ ---           ┆ ---            ┆   ┆ ---  ┆ ---  ┆ ---  ┆ ---  │\n│ i64           ┆ i64     ┆ i64           ┆ f64            ┆   ┆ f64  ┆ f64  ┆ f64  ┆ f64  │\n╞═══════════════╪═════════╪═══════════════╪════════════════╪═══╪══════╪══════╪══════╪══════╡\n│ 2987000       ┆ 0       ┆ 86400         ┆ 68.5           ┆ … ┆ null ┆ null ┆ null ┆ null │\n│ 2987001       ┆ 0       ┆ 86401         ┆ 29.0           ┆ … ┆ null ┆ null ┆ null ┆ null │\n│ 2987002       ┆ 0       ┆ 86469         ┆ 59.0           ┆ … ┆ null ┆ null ┆ null ┆ null │\n│ 2987003       ┆ 0       ┆ 86499         ┆ 50.0           ┆ … ┆ null ┆ null ┆ null ┆ null │\n│ 2987004       ┆ 0       ┆ 86506         ┆ 50.0           ┆ … ┆ 0.0  ┆ 0.0  ┆ 0.0  ┆ 0.0  │\n└───────────────┴─────────┴───────────────┴────────────────┴───┴──────┴──────┴──────┴──────┘",
      "text/html": "<div><style>\n.dataframe > thead > tr,\n.dataframe > tbody > tr {\n  text-align: right;\n  white-space: pre-wrap;\n}\n</style>\n<small>shape: (5, 394)</small><table border=\"1\" class=\"dataframe\"><thead><tr><th>TransactionID</th><th>isFraud</th><th>TransactionDT</th><th>TransactionAmt</th><th>ProductCD</th><th>card1</th><th>card2</th><th>card3</th><th>card4</th><th>card5</th><th>card6</th><th>addr1</th><th>addr2</th><th>dist1</th><th>dist2</th><th>P_emaildomain</th><th>R_emaildomain</th><th>C1</th><th>C2</th><th>C3</th><th>C4</th><th>C5</th><th>C6</th><th>C7</th><th>C8</th><th>C9</th><th>C10</th><th>C11</th><th>C12</th><th>C13</th><th>C14</th><th>D1</th><th>D2</th><th>D3</th><th>D4</th><th>D5</th><th>D6</th><th>&hellip;</th><th>V303</th><th>V304</th><th>V305</th><th>V306</th><th>V307</th><th>V308</th><th>V309</th><th>V310</th><th>V311</th><th>V312</th><th>V313</th><th>V314</th><th>V315</th><th>V316</th><th>V317</th><th>V318</th><th>V319</th><th>V320</th><th>V321</th><th>V322</th><th>V323</th><th>V324</th><th>V325</th><th>V326</th><th>V327</th><th>V328</th><th>V329</th><th>V330</th><th>V331</th><th>V332</th><th>V333</th><th>V334</th><th>V335</th><th>V336</th><th>V337</th><th>V338</th><th>V339</th></tr><tr><td>i64</td><td>i64</td><td>i64</td><td>f64</td><td>str</td><td>i64</td><td>f64</td><td>f64</td><td>str</td><td>f64</td><td>str</td><td>f64</td><td>f64</td><td>f64</td><td>f64</td><td>str</td><td>str</td><td>f64</td><td>f64</td><td>f64</td><td>f64</td><td>f64</td><td>f64</td><td>f64</td><td>f64</td><td>f64</td><td>f64</td><td>f64</td><td>f64</td><td>f64</td><td>f64</td><td>f64</td><td>f64</td><td>f64</td><td>f64</td><td>f64</td><td>f64</td><td>&hellip;</td><td>f64</td><td>f64</td><td>f64</td><td>f64</td><td>f64</td><td>f64</td><td>f64</td><td>f64</td><td>f64</td><td>f64</td><td>f64</td><td>f64</td><td>f64</td><td>f64</td><td>f64</td><td>f64</td><td>f64</td><td>f64</td><td>f64</td><td>f64</td><td>f64</td><td>f64</td><td>f64</td><td>f64</td><td>f64</td><td>f64</td><td>f64</td><td>f64</td><td>f64</td><td>f64</td><td>f64</td><td>f64</td><td>f64</td><td>f64</td><td>f64</td><td>f64</td><td>f64</td></tr></thead><tbody><tr><td>2987000</td><td>0</td><td>86400</td><td>68.5</td><td>&quot;W&quot;</td><td>13926</td><td>null</td><td>150.0</td><td>&quot;discover&quot;</td><td>142.0</td><td>&quot;credit&quot;</td><td>315.0</td><td>87.0</td><td>19.0</td><td>null</td><td>null</td><td>null</td><td>1.0</td><td>1.0</td><td>0.0</td><td>0.0</td><td>0.0</td><td>1.0</td><td>0.0</td><td>0.0</td><td>1.0</td><td>0.0</td><td>2.0</td><td>0.0</td><td>1.0</td><td>1.0</td><td>14.0</td><td>null</td><td>13.0</td><td>null</td><td>null</td><td>null</td><td>&hellip;</td><td>0.0</td><td>0.0</td><td>1.0</td><td>0.0</td><td>117.0</td><td>0.0</td><td>0.0</td><td>0.0</td><td>0.0</td><td>0.0</td><td>0.0</td><td>0.0</td><td>0.0</td><td>0.0</td><td>117.0</td><td>0.0</td><td>0.0</td><td>0.0</td><td>0.0</td><td>null</td><td>null</td><td>null</td><td>null</td><td>null</td><td>null</td><td>null</td><td>null</td><td>null</td><td>null</td><td>null</td><td>null</td><td>null</td><td>null</td><td>null</td><td>null</td><td>null</td><td>null</td></tr><tr><td>2987001</td><td>0</td><td>86401</td><td>29.0</td><td>&quot;W&quot;</td><td>2755</td><td>404.0</td><td>150.0</td><td>&quot;mastercard&quot;</td><td>102.0</td><td>&quot;credit&quot;</td><td>325.0</td><td>87.0</td><td>null</td><td>null</td><td>&quot;gmail.com&quot;</td><td>null</td><td>1.0</td><td>1.0</td><td>0.0</td><td>0.0</td><td>0.0</td><td>1.0</td><td>0.0</td><td>0.0</td><td>0.0</td><td>0.0</td><td>1.0</td><td>0.0</td><td>1.0</td><td>1.0</td><td>0.0</td><td>null</td><td>null</td><td>0.0</td><td>null</td><td>null</td><td>&hellip;</td><td>0.0</td><td>0.0</td><td>1.0</td><td>0.0</td><td>0.0</td><td>0.0</td><td>0.0</td><td>0.0</td><td>0.0</td><td>0.0</td><td>0.0</td><td>0.0</td><td>0.0</td><td>0.0</td><td>0.0</td><td>0.0</td><td>0.0</td><td>0.0</td><td>0.0</td><td>null</td><td>null</td><td>null</td><td>null</td><td>null</td><td>null</td><td>null</td><td>null</td><td>null</td><td>null</td><td>null</td><td>null</td><td>null</td><td>null</td><td>null</td><td>null</td><td>null</td><td>null</td></tr><tr><td>2987002</td><td>0</td><td>86469</td><td>59.0</td><td>&quot;W&quot;</td><td>4663</td><td>490.0</td><td>150.0</td><td>&quot;visa&quot;</td><td>166.0</td><td>&quot;debit&quot;</td><td>330.0</td><td>87.0</td><td>287.0</td><td>null</td><td>&quot;outlook.com&quot;</td><td>null</td><td>1.0</td><td>1.0</td><td>0.0</td><td>0.0</td><td>0.0</td><td>1.0</td><td>0.0</td><td>0.0</td><td>1.0</td><td>0.0</td><td>1.0</td><td>0.0</td><td>1.0</td><td>1.0</td><td>0.0</td><td>null</td><td>null</td><td>0.0</td><td>null</td><td>null</td><td>&hellip;</td><td>0.0</td><td>0.0</td><td>1.0</td><td>0.0</td><td>0.0</td><td>0.0</td><td>0.0</td><td>0.0</td><td>0.0</td><td>0.0</td><td>0.0</td><td>0.0</td><td>0.0</td><td>0.0</td><td>0.0</td><td>0.0</td><td>0.0</td><td>0.0</td><td>0.0</td><td>null</td><td>null</td><td>null</td><td>null</td><td>null</td><td>null</td><td>null</td><td>null</td><td>null</td><td>null</td><td>null</td><td>null</td><td>null</td><td>null</td><td>null</td><td>null</td><td>null</td><td>null</td></tr><tr><td>2987003</td><td>0</td><td>86499</td><td>50.0</td><td>&quot;W&quot;</td><td>18132</td><td>567.0</td><td>150.0</td><td>&quot;mastercard&quot;</td><td>117.0</td><td>&quot;debit&quot;</td><td>476.0</td><td>87.0</td><td>null</td><td>null</td><td>&quot;yahoo.com&quot;</td><td>null</td><td>2.0</td><td>5.0</td><td>0.0</td><td>0.0</td><td>0.0</td><td>4.0</td><td>0.0</td><td>0.0</td><td>1.0</td><td>0.0</td><td>1.0</td><td>0.0</td><td>25.0</td><td>1.0</td><td>112.0</td><td>112.0</td><td>0.0</td><td>94.0</td><td>0.0</td><td>null</td><td>&hellip;</td><td>0.0</td><td>0.0</td><td>1.0</td><td>50.0</td><td>1758.0</td><td>925.0</td><td>0.0</td><td>354.0</td><td>0.0</td><td>135.0</td><td>0.0</td><td>0.0</td><td>0.0</td><td>50.0</td><td>1404.0</td><td>790.0</td><td>0.0</td><td>0.0</td><td>0.0</td><td>null</td><td>null</td><td>null</td><td>null</td><td>null</td><td>null</td><td>null</td><td>null</td><td>null</td><td>null</td><td>null</td><td>null</td><td>null</td><td>null</td><td>null</td><td>null</td><td>null</td><td>null</td></tr><tr><td>2987004</td><td>0</td><td>86506</td><td>50.0</td><td>&quot;H&quot;</td><td>4497</td><td>514.0</td><td>150.0</td><td>&quot;mastercard&quot;</td><td>102.0</td><td>&quot;credit&quot;</td><td>420.0</td><td>87.0</td><td>null</td><td>null</td><td>&quot;gmail.com&quot;</td><td>null</td><td>1.0</td><td>1.0</td><td>0.0</td><td>0.0</td><td>0.0</td><td>1.0</td><td>0.0</td><td>1.0</td><td>0.0</td><td>1.0</td><td>1.0</td><td>0.0</td><td>1.0</td><td>1.0</td><td>0.0</td><td>null</td><td>null</td><td>null</td><td>null</td><td>null</td><td>&hellip;</td><td>1.0</td><td>1.0</td><td>1.0</td><td>0.0</td><td>0.0</td><td>0.0</td><td>0.0</td><td>0.0</td><td>0.0</td><td>0.0</td><td>0.0</td><td>0.0</td><td>0.0</td><td>0.0</td><td>0.0</td><td>0.0</td><td>0.0</td><td>0.0</td><td>0.0</td><td>0.0</td><td>0.0</td><td>0.0</td><td>0.0</td><td>0.0</td><td>0.0</td><td>0.0</td><td>0.0</td><td>0.0</td><td>0.0</td><td>0.0</td><td>0.0</td><td>0.0</td><td>0.0</td><td>0.0</td><td>0.0</td><td>0.0</td><td>0.0</td></tr></tbody></table></div>"
     },
     "execution_count": 63,
     "metadata": {},
     "output_type": "execute_result"
    }
   ],
   "source": [
    "transactions: pl.LazyFrame = pl.scan_csv(TRANSACTION_INPUT_PATH)\n",
    "transactions.head().collect()\n"
   ],
   "metadata": {
    "collapsed": false,
    "ExecuteTime": {
     "end_time": "2024-03-13T08:58:08.085708926Z",
     "start_time": "2024-03-13T08:58:08.030163078Z"
    }
   },
   "id": "75445a44d79b2884",
   "execution_count": 63
  },
  {
   "cell_type": "code",
   "outputs": [
    {
     "data": {
      "text/plain": "shape: (9, 395)\n┌───────────┬───────────┬──────────┬───────────┬───┬───────────┬───────────┬───────────┬───────────┐\n│ statistic ┆ Transacti ┆ isFraud  ┆ Transacti ┆ … ┆ V336      ┆ V337      ┆ V338      ┆ V339      │\n│ ---       ┆ onID      ┆ ---      ┆ onDT      ┆   ┆ ---       ┆ ---       ┆ ---       ┆ ---       │\n│ str       ┆ ---       ┆ f64      ┆ ---       ┆   ┆ f64       ┆ f64       ┆ f64       ┆ f64       │\n│           ┆ f64       ┆          ┆ f64       ┆   ┆           ┆           ┆           ┆           │\n╞═══════════╪═══════════╪══════════╪═══════════╪═══╪═══════════╪═══════════╪═══════════╪═══════════╡\n│ count     ┆ 590540.0  ┆ 590540.0 ┆ 590540.0  ┆ … ┆ 82351.0   ┆ 82351.0   ┆ 82351.0   ┆ 82351.0   │\n│ null_coun ┆ 0.0       ┆ 0.0      ┆ 0.0       ┆ … ┆ 508189.0  ┆ 508189.0  ┆ 508189.0  ┆ 508189.0  │\n│ t         ┆           ┆          ┆           ┆   ┆           ┆           ┆           ┆           │\n│ mean      ┆ 3282269.5 ┆ 0.03499  ┆ 7.3723e6  ┆ … ┆ 28.530903 ┆ 55.352422 ┆ 151.16054 ┆ 100.70088 │\n│           ┆           ┆          ┆           ┆   ┆           ┆           ┆ 2         ┆ 2         │\n│ std       ┆ 170474.35 ┆ 0.183755 ┆ 4.6172e6  ┆ … ┆ 274.57692 ┆ 668.48683 ┆ 1095.0343 ┆ 814.94672 │\n│           ┆ 8321      ┆          ┆           ┆   ┆           ┆ 3         ┆ 87        ┆ 2         │\n│ min       ┆ 2.987e6   ┆ 0.0      ┆ 86400.0   ┆ … ┆ 0.0       ┆ 0.0       ┆ 0.0       ┆ 0.0       │\n│ 25%       ┆ 3.134635e ┆ 0.0      ┆ 3.027065e ┆ … ┆ 0.0       ┆ 0.0       ┆ 0.0       ┆ 0.0       │\n│           ┆ 6         ┆          ┆ 6         ┆   ┆           ┆           ┆           ┆           │\n│ 50%       ┆ 3.28227e6 ┆ 0.0      ┆ 7.306535e ┆ … ┆ 0.0       ┆ 0.0       ┆ 0.0       ┆ 0.0       │\n│           ┆           ┆          ┆ 6         ┆   ┆           ┆           ┆           ┆           │\n│ 75%       ┆ 3.429904e ┆ 0.0      ┆ 1.1246605 ┆ … ┆ 0.0       ┆ 0.0       ┆ 0.0       ┆ 0.0       │\n│           ┆ 6         ┆          ┆ e7        ┆   ┆           ┆           ┆           ┆           │\n│ max       ┆ 3.577539e ┆ 1.0      ┆ 1.5811131 ┆ … ┆ 55125.0   ┆ 104060.0  ┆ 104060.0  ┆ 104060.0  │\n│           ┆ 6         ┆          ┆ e7        ┆   ┆           ┆           ┆           ┆           │\n└───────────┴───────────┴──────────┴───────────┴───┴───────────┴───────────┴───────────┴───────────┘",
      "text/html": "<div><style>\n.dataframe > thead > tr,\n.dataframe > tbody > tr {\n  text-align: right;\n  white-space: pre-wrap;\n}\n</style>\n<small>shape: (9, 395)</small><table border=\"1\" class=\"dataframe\"><thead><tr><th>statistic</th><th>TransactionID</th><th>isFraud</th><th>TransactionDT</th><th>TransactionAmt</th><th>ProductCD</th><th>card1</th><th>card2</th><th>card3</th><th>card4</th><th>card5</th><th>card6</th><th>addr1</th><th>addr2</th><th>dist1</th><th>dist2</th><th>P_emaildomain</th><th>R_emaildomain</th><th>C1</th><th>C2</th><th>C3</th><th>C4</th><th>C5</th><th>C6</th><th>C7</th><th>C8</th><th>C9</th><th>C10</th><th>C11</th><th>C12</th><th>C13</th><th>C14</th><th>D1</th><th>D2</th><th>D3</th><th>D4</th><th>D5</th><th>&hellip;</th><th>V303</th><th>V304</th><th>V305</th><th>V306</th><th>V307</th><th>V308</th><th>V309</th><th>V310</th><th>V311</th><th>V312</th><th>V313</th><th>V314</th><th>V315</th><th>V316</th><th>V317</th><th>V318</th><th>V319</th><th>V320</th><th>V321</th><th>V322</th><th>V323</th><th>V324</th><th>V325</th><th>V326</th><th>V327</th><th>V328</th><th>V329</th><th>V330</th><th>V331</th><th>V332</th><th>V333</th><th>V334</th><th>V335</th><th>V336</th><th>V337</th><th>V338</th><th>V339</th></tr><tr><td>str</td><td>f64</td><td>f64</td><td>f64</td><td>f64</td><td>str</td><td>f64</td><td>f64</td><td>f64</td><td>str</td><td>f64</td><td>str</td><td>f64</td><td>f64</td><td>f64</td><td>f64</td><td>str</td><td>str</td><td>f64</td><td>f64</td><td>f64</td><td>f64</td><td>f64</td><td>f64</td><td>f64</td><td>f64</td><td>f64</td><td>f64</td><td>f64</td><td>f64</td><td>f64</td><td>f64</td><td>f64</td><td>f64</td><td>f64</td><td>f64</td><td>f64</td><td>&hellip;</td><td>f64</td><td>f64</td><td>f64</td><td>f64</td><td>f64</td><td>f64</td><td>f64</td><td>f64</td><td>f64</td><td>f64</td><td>f64</td><td>f64</td><td>f64</td><td>f64</td><td>f64</td><td>f64</td><td>f64</td><td>f64</td><td>f64</td><td>f64</td><td>f64</td><td>f64</td><td>f64</td><td>f64</td><td>f64</td><td>f64</td><td>f64</td><td>f64</td><td>f64</td><td>f64</td><td>f64</td><td>f64</td><td>f64</td><td>f64</td><td>f64</td><td>f64</td><td>f64</td></tr></thead><tbody><tr><td>&quot;count&quot;</td><td>590540.0</td><td>590540.0</td><td>590540.0</td><td>590540.0</td><td>&quot;590540&quot;</td><td>590540.0</td><td>581607.0</td><td>588975.0</td><td>&quot;588963&quot;</td><td>586281.0</td><td>&quot;588969&quot;</td><td>524834.0</td><td>524834.0</td><td>238269.0</td><td>37627.0</td><td>&quot;496084&quot;</td><td>&quot;137291&quot;</td><td>590540.0</td><td>590540.0</td><td>590540.0</td><td>590540.0</td><td>590540.0</td><td>590540.0</td><td>590540.0</td><td>590540.0</td><td>590540.0</td><td>590540.0</td><td>590540.0</td><td>590540.0</td><td>590540.0</td><td>590540.0</td><td>589271.0</td><td>309743.0</td><td>327662.0</td><td>421618.0</td><td>280699.0</td><td>&hellip;</td><td>590528.0</td><td>590528.0</td><td>590528.0</td><td>590528.0</td><td>590528.0</td><td>590528.0</td><td>590528.0</td><td>590528.0</td><td>590528.0</td><td>590528.0</td><td>589271.0</td><td>589271.0</td><td>589271.0</td><td>590528.0</td><td>590528.0</td><td>590528.0</td><td>590528.0</td><td>590528.0</td><td>590528.0</td><td>82351.0</td><td>82351.0</td><td>82351.0</td><td>82351.0</td><td>82351.0</td><td>82351.0</td><td>82351.0</td><td>82351.0</td><td>82351.0</td><td>82351.0</td><td>82351.0</td><td>82351.0</td><td>82351.0</td><td>82351.0</td><td>82351.0</td><td>82351.0</td><td>82351.0</td><td>82351.0</td></tr><tr><td>&quot;null_count&quot;</td><td>0.0</td><td>0.0</td><td>0.0</td><td>0.0</td><td>&quot;0&quot;</td><td>0.0</td><td>8933.0</td><td>1565.0</td><td>&quot;1577&quot;</td><td>4259.0</td><td>&quot;1571&quot;</td><td>65706.0</td><td>65706.0</td><td>352271.0</td><td>552913.0</td><td>&quot;94456&quot;</td><td>&quot;453249&quot;</td><td>0.0</td><td>0.0</td><td>0.0</td><td>0.0</td><td>0.0</td><td>0.0</td><td>0.0</td><td>0.0</td><td>0.0</td><td>0.0</td><td>0.0</td><td>0.0</td><td>0.0</td><td>0.0</td><td>1269.0</td><td>280797.0</td><td>262878.0</td><td>168922.0</td><td>309841.0</td><td>&hellip;</td><td>12.0</td><td>12.0</td><td>12.0</td><td>12.0</td><td>12.0</td><td>12.0</td><td>12.0</td><td>12.0</td><td>12.0</td><td>12.0</td><td>1269.0</td><td>1269.0</td><td>1269.0</td><td>12.0</td><td>12.0</td><td>12.0</td><td>12.0</td><td>12.0</td><td>12.0</td><td>508189.0</td><td>508189.0</td><td>508189.0</td><td>508189.0</td><td>508189.0</td><td>508189.0</td><td>508189.0</td><td>508189.0</td><td>508189.0</td><td>508189.0</td><td>508189.0</td><td>508189.0</td><td>508189.0</td><td>508189.0</td><td>508189.0</td><td>508189.0</td><td>508189.0</td><td>508189.0</td></tr><tr><td>&quot;mean&quot;</td><td>3282269.5</td><td>0.03499</td><td>7.3723e6</td><td>135.027176</td><td>null</td><td>9898.734658</td><td>362.555488</td><td>153.194925</td><td>null</td><td>199.278897</td><td>null</td><td>290.733794</td><td>86.80063</td><td>118.50218</td><td>231.855423</td><td>null</td><td>null</td><td>14.092458</td><td>15.269734</td><td>0.005644</td><td>4.092185</td><td>5.571526</td><td>9.071082</td><td>2.848478</td><td>5.144574</td><td>4.48024</td><td>5.240343</td><td>10.241521</td><td>4.076227</td><td>32.539918</td><td>8.295215</td><td>94.347568</td><td>169.563231</td><td>28.343348</td><td>140.002441</td><td>42.335965</td><td>&hellip;</td><td>0.28314</td><td>0.264208</td><td>1.000007</td><td>139.748713</td><td>408.682375</td><td>230.41318</td><td>10.995986</td><td>118.195658</td><td>4.202175</td><td>39.17391</td><td>21.351473</td><td>43.319174</td><td>26.806977</td><td>109.818544</td><td>247.606741</td><td>162.153398</td><td>18.372476</td><td>42.073133</td><td>28.326584</td><td>6.220289</td><td>13.103775</td><td>9.184612</td><td>0.058494</td><td>0.85104</td><td>0.296633</td><td>0.33679</td><td>1.312844</td><td>0.775874</td><td>721.741883</td><td>1375.783644</td><td>1014.622782</td><td>9.807015</td><td>59.16455</td><td>28.530903</td><td>55.352422</td><td>151.160542</td><td>100.700882</td></tr><tr><td>&quot;std&quot;</td><td>170474.358321</td><td>0.183755</td><td>4.6172e6</td><td>239.162522</td><td>null</td><td>4901.170153</td><td>157.793246</td><td>11.336444</td><td>null</td><td>41.244453</td><td>null</td><td>101.741072</td><td>2.690623</td><td>371.872026</td><td>529.053494</td><td>null</td><td>null</td><td>133.569018</td><td>154.668899</td><td>0.150536</td><td>68.848459</td><td>25.786976</td><td>71.508467</td><td>61.727304</td><td>95.378574</td><td>16.674897</td><td>95.581443</td><td>94.336292</td><td>86.666218</td><td>129.364844</td><td>49.544262</td><td>157.660387</td><td>177.315865</td><td>62.384721</td><td>191.096774</td><td>89.000144</td><td>&hellip;</td><td>0.623608</td><td>0.528238</td><td>0.002603</td><td>2348.849634</td><td>4391.992977</td><td>3021.924247</td><td>116.254277</td><td>352.983093</td><td>102.374938</td><td>172.128339</td><td>95.90297</td><td>173.619028</td><td>116.853222</td><td>2270.033202</td><td>3980.042828</td><td>2793.343636</td><td>332.304848</td><td>473.499307</td><td>382.053171</td><td>56.022561</td><td>106.739813</td><td>73.627893</td><td>0.304415</td><td>3.950295</td><td>1.364356</td><td>1.580144</td><td>8.769083</td><td>4.727971</td><td>6217.223583</td><td>11169.275702</td><td>7955.735482</td><td>243.861391</td><td>387.62948</td><td>274.57692</td><td>668.486833</td><td>1095.034387</td><td>814.946722</td></tr><tr><td>&quot;min&quot;</td><td>2.987e6</td><td>0.0</td><td>86400.0</td><td>0.251</td><td>&quot;C&quot;</td><td>1000.0</td><td>100.0</td><td>100.0</td><td>&quot;american expre…</td><td>100.0</td><td>&quot;charge card&quot;</td><td>100.0</td><td>10.0</td><td>0.0</td><td>0.0</td><td>&quot;aim.com&quot;</td><td>&quot;aim.com&quot;</td><td>0.0</td><td>0.0</td><td>0.0</td><td>0.0</td><td>0.0</td><td>0.0</td><td>0.0</td><td>0.0</td><td>0.0</td><td>0.0</td><td>0.0</td><td>0.0</td><td>0.0</td><td>0.0</td><td>0.0</td><td>0.0</td><td>0.0</td><td>-122.0</td><td>0.0</td><td>&hellip;</td><td>0.0</td><td>0.0</td><td>1.0</td><td>0.0</td><td>0.0</td><td>0.0</td><td>0.0</td><td>0.0</td><td>0.0</td><td>0.0</td><td>0.0</td><td>0.0</td><td>0.0</td><td>0.0</td><td>0.0</td><td>0.0</td><td>0.0</td><td>0.0</td><td>0.0</td><td>0.0</td><td>0.0</td><td>0.0</td><td>0.0</td><td>0.0</td><td>0.0</td><td>0.0</td><td>0.0</td><td>0.0</td><td>0.0</td><td>0.0</td><td>0.0</td><td>0.0</td><td>0.0</td><td>0.0</td><td>0.0</td><td>0.0</td><td>0.0</td></tr><tr><td>&quot;25%&quot;</td><td>3.134635e6</td><td>0.0</td><td>3.027065e6</td><td>43.321</td><td>null</td><td>6019.0</td><td>214.0</td><td>150.0</td><td>null</td><td>166.0</td><td>null</td><td>204.0</td><td>87.0</td><td>3.0</td><td>7.0</td><td>null</td><td>null</td><td>1.0</td><td>1.0</td><td>0.0</td><td>0.0</td><td>0.0</td><td>1.0</td><td>0.0</td><td>0.0</td><td>0.0</td><td>0.0</td><td>1.0</td><td>0.0</td><td>1.0</td><td>1.0</td><td>0.0</td><td>26.0</td><td>1.0</td><td>0.0</td><td>1.0</td><td>&hellip;</td><td>0.0</td><td>0.0</td><td>1.0</td><td>0.0</td><td>0.0</td><td>0.0</td><td>0.0</td><td>0.0</td><td>0.0</td><td>0.0</td><td>0.0</td><td>0.0</td><td>0.0</td><td>0.0</td><td>0.0</td><td>0.0</td><td>0.0</td><td>0.0</td><td>0.0</td><td>0.0</td><td>0.0</td><td>0.0</td><td>0.0</td><td>0.0</td><td>0.0</td><td>0.0</td><td>0.0</td><td>0.0</td><td>0.0</td><td>0.0</td><td>0.0</td><td>0.0</td><td>0.0</td><td>0.0</td><td>0.0</td><td>0.0</td><td>0.0</td></tr><tr><td>&quot;50%&quot;</td><td>3.28227e6</td><td>0.0</td><td>7.306535e6</td><td>68.78</td><td>null</td><td>9678.0</td><td>361.0</td><td>150.0</td><td>null</td><td>226.0</td><td>null</td><td>299.0</td><td>87.0</td><td>8.0</td><td>37.0</td><td>null</td><td>null</td><td>1.0</td><td>1.0</td><td>0.0</td><td>0.0</td><td>0.0</td><td>1.0</td><td>0.0</td><td>0.0</td><td>1.0</td><td>0.0</td><td>1.0</td><td>0.0</td><td>3.0</td><td>1.0</td><td>3.0</td><td>97.0</td><td>8.0</td><td>26.0</td><td>10.0</td><td>&hellip;</td><td>0.0</td><td>0.0</td><td>1.0</td><td>0.0</td><td>0.0</td><td>0.0</td><td>0.0</td><td>0.0</td><td>0.0</td><td>0.0</td><td>0.0</td><td>0.0</td><td>0.0</td><td>0.0</td><td>0.0</td><td>0.0</td><td>0.0</td><td>0.0</td><td>0.0</td><td>0.0</td><td>0.0</td><td>0.0</td><td>0.0</td><td>0.0</td><td>0.0</td><td>0.0</td><td>0.0</td><td>0.0</td><td>0.0</td><td>0.0</td><td>0.0</td><td>0.0</td><td>0.0</td><td>0.0</td><td>0.0</td><td>0.0</td><td>0.0</td></tr><tr><td>&quot;75%&quot;</td><td>3.429904e6</td><td>0.0</td><td>1.1246605e7</td><td>125.0</td><td>null</td><td>14184.0</td><td>512.0</td><td>150.0</td><td>null</td><td>226.0</td><td>null</td><td>330.0</td><td>87.0</td><td>24.0</td><td>206.0</td><td>null</td><td>null</td><td>3.0</td><td>3.0</td><td>0.0</td><td>0.0</td><td>1.0</td><td>2.0</td><td>0.0</td><td>0.0</td><td>2.0</td><td>0.0</td><td>2.0</td><td>0.0</td><td>12.0</td><td>2.0</td><td>122.0</td><td>276.0</td><td>27.0</td><td>253.0</td><td>32.0</td><td>&hellip;</td><td>0.0</td><td>0.0</td><td>1.0</td><td>0.0</td><td>151.380005</td><td>35.970001</td><td>0.0</td><td>107.949997</td><td>0.0</td><td>0.0</td><td>0.0</td><td>0.0</td><td>0.0</td><td>0.0</td><td>0.0</td><td>0.0</td><td>0.0</td><td>0.0</td><td>0.0</td><td>0.0</td><td>1.0</td><td>0.0</td><td>0.0</td><td>0.0</td><td>0.0</td><td>0.0</td><td>0.0</td><td>0.0</td><td>0.0</td><td>25.0</td><td>0.0</td><td>0.0</td><td>0.0</td><td>0.0</td><td>0.0</td><td>0.0</td><td>0.0</td></tr><tr><td>&quot;max&quot;</td><td>3.577539e6</td><td>1.0</td><td>1.5811131e7</td><td>31937.391</td><td>&quot;W&quot;</td><td>18396.0</td><td>600.0</td><td>231.0</td><td>&quot;visa&quot;</td><td>237.0</td><td>&quot;debit or credi…</td><td>540.0</td><td>102.0</td><td>10286.0</td><td>11623.0</td><td>&quot;ymail.com&quot;</td><td>&quot;ymail.com&quot;</td><td>4685.0</td><td>5691.0</td><td>26.0</td><td>2253.0</td><td>349.0</td><td>2253.0</td><td>2255.0</td><td>3331.0</td><td>210.0</td><td>3257.0</td><td>3188.0</td><td>3188.0</td><td>2918.0</td><td>1429.0</td><td>640.0</td><td>640.0</td><td>819.0</td><td>869.0</td><td>819.0</td><td>&hellip;</td><td>20.0</td><td>16.0</td><td>2.0</td><td>108800.0</td><td>145765.0</td><td>108800.0</td><td>55125.0</td><td>55125.0</td><td>55125.0</td><td>55125.0</td><td>4817.470215</td><td>7519.870117</td><td>4817.470215</td><td>93736.0</td><td>134021.0</td><td>98476.0</td><td>104060.0</td><td>104060.0</td><td>104060.0</td><td>880.0</td><td>1411.0</td><td>976.0</td><td>12.0</td><td>44.0</td><td>18.0</td><td>15.0</td><td>99.0</td><td>55.0</td><td>160000.0</td><td>160000.0</td><td>160000.0</td><td>55125.0</td><td>55125.0</td><td>55125.0</td><td>104060.0</td><td>104060.0</td><td>104060.0</td></tr></tbody></table></div>"
     },
     "execution_count": 64,
     "metadata": {},
     "output_type": "execute_result"
    }
   ],
   "source": [
    "transactions.describe()"
   ],
   "metadata": {
    "collapsed": false,
    "ExecuteTime": {
     "end_time": "2024-03-13T08:58:10.530696963Z",
     "start_time": "2024-03-13T08:58:08.096051539Z"
    }
   },
   "id": "31de5801be04343a",
   "execution_count": 64
  },
  {
   "cell_type": "code",
   "outputs": [
    {
     "data": {
      "text/plain": "shape: (5, 14)\n┌───────────┬────────────┬────────┬───────────────┬───┬──────┬──────┬──────┬──────┐\n│ ProductCD ┆ card4      ┆ card6  ┆ P_emaildomain ┆ … ┆ M6   ┆ M7   ┆ M8   ┆ M9   │\n│ ---       ┆ ---        ┆ ---    ┆ ---           ┆   ┆ ---  ┆ ---  ┆ ---  ┆ ---  │\n│ str       ┆ str        ┆ str    ┆ str           ┆   ┆ str  ┆ str  ┆ str  ┆ str  │\n╞═══════════╪════════════╪════════╪═══════════════╪═══╪══════╪══════╪══════╪══════╡\n│ W         ┆ discover   ┆ credit ┆ null          ┆ … ┆ T    ┆ null ┆ null ┆ null │\n│ W         ┆ mastercard ┆ credit ┆ gmail.com     ┆ … ┆ T    ┆ null ┆ null ┆ null │\n│ W         ┆ visa       ┆ debit  ┆ outlook.com   ┆ … ┆ F    ┆ F    ┆ F    ┆ F    │\n│ W         ┆ mastercard ┆ debit  ┆ yahoo.com     ┆ … ┆ F    ┆ null ┆ null ┆ null │\n│ H         ┆ mastercard ┆ credit ┆ gmail.com     ┆ … ┆ null ┆ null ┆ null ┆ null │\n└───────────┴────────────┴────────┴───────────────┴───┴──────┴──────┴──────┴──────┘",
      "text/html": "<div><style>\n.dataframe > thead > tr,\n.dataframe > tbody > tr {\n  text-align: right;\n  white-space: pre-wrap;\n}\n</style>\n<small>shape: (5, 14)</small><table border=\"1\" class=\"dataframe\"><thead><tr><th>ProductCD</th><th>card4</th><th>card6</th><th>P_emaildomain</th><th>R_emaildomain</th><th>M1</th><th>M2</th><th>M3</th><th>M4</th><th>M5</th><th>M6</th><th>M7</th><th>M8</th><th>M9</th></tr><tr><td>str</td><td>str</td><td>str</td><td>str</td><td>str</td><td>str</td><td>str</td><td>str</td><td>str</td><td>str</td><td>str</td><td>str</td><td>str</td><td>str</td></tr></thead><tbody><tr><td>&quot;W&quot;</td><td>&quot;discover&quot;</td><td>&quot;credit&quot;</td><td>null</td><td>null</td><td>&quot;T&quot;</td><td>&quot;T&quot;</td><td>&quot;T&quot;</td><td>&quot;M2&quot;</td><td>&quot;F&quot;</td><td>&quot;T&quot;</td><td>null</td><td>null</td><td>null</td></tr><tr><td>&quot;W&quot;</td><td>&quot;mastercard&quot;</td><td>&quot;credit&quot;</td><td>&quot;gmail.com&quot;</td><td>null</td><td>null</td><td>null</td><td>null</td><td>&quot;M0&quot;</td><td>&quot;T&quot;</td><td>&quot;T&quot;</td><td>null</td><td>null</td><td>null</td></tr><tr><td>&quot;W&quot;</td><td>&quot;visa&quot;</td><td>&quot;debit&quot;</td><td>&quot;outlook.com&quot;</td><td>null</td><td>&quot;T&quot;</td><td>&quot;T&quot;</td><td>&quot;T&quot;</td><td>&quot;M0&quot;</td><td>&quot;F&quot;</td><td>&quot;F&quot;</td><td>&quot;F&quot;</td><td>&quot;F&quot;</td><td>&quot;F&quot;</td></tr><tr><td>&quot;W&quot;</td><td>&quot;mastercard&quot;</td><td>&quot;debit&quot;</td><td>&quot;yahoo.com&quot;</td><td>null</td><td>null</td><td>null</td><td>null</td><td>&quot;M0&quot;</td><td>&quot;T&quot;</td><td>&quot;F&quot;</td><td>null</td><td>null</td><td>null</td></tr><tr><td>&quot;H&quot;</td><td>&quot;mastercard&quot;</td><td>&quot;credit&quot;</td><td>&quot;gmail.com&quot;</td><td>null</td><td>null</td><td>null</td><td>null</td><td>null</td><td>null</td><td>null</td><td>null</td><td>null</td><td>null</td></tr></tbody></table></div>"
     },
     "execution_count": 65,
     "metadata": {},
     "output_type": "execute_result"
    }
   ],
   "source": [
    "categorical_transactions: pl.LazyFrame = transactions.select(pl.col(pl.String))\n",
    "categorical_transactions.head().collect()"
   ],
   "metadata": {
    "collapsed": false,
    "ExecuteTime": {
     "end_time": "2024-03-13T08:58:10.533104671Z",
     "start_time": "2024-03-13T08:58:10.482937689Z"
    }
   },
   "id": "cb3565d1f706dbfa",
   "execution_count": 65
  },
  {
   "cell_type": "markdown",
   "source": [
    "## Analyze categorical columns"
   ],
   "metadata": {
    "collapsed": false
   },
   "id": "adb70e59bf397bd0"
  },
  {
   "cell_type": "code",
   "outputs": [
    {
     "data": {
      "text/plain": "shape: (9, 15)\n┌────────────┬───────────┬──────────┬─────────────────┬───┬────────┬────────┬────────┬────────┐\n│ statistic  ┆ ProductCD ┆ card4    ┆ card6           ┆ … ┆ M6     ┆ M7     ┆ M8     ┆ M9     │\n│ ---        ┆ ---       ┆ ---      ┆ ---             ┆   ┆ ---    ┆ ---    ┆ ---    ┆ ---    │\n│ str        ┆ str       ┆ str      ┆ str             ┆   ┆ str    ┆ str    ┆ str    ┆ str    │\n╞════════════╪═══════════╪══════════╪═════════════════╪═══╪════════╪════════╪════════╪════════╡\n│ count      ┆ 590540    ┆ 588963   ┆ 588969          ┆ … ┆ 421180 ┆ 244275 ┆ 244288 ┆ 244288 │\n│ null_count ┆ 0         ┆ 1577     ┆ 1571            ┆ … ┆ 169360 ┆ 346265 ┆ 346252 ┆ 346252 │\n│ mean       ┆ null      ┆ null     ┆ null            ┆ … ┆ null   ┆ null   ┆ null   ┆ null   │\n│ std        ┆ null      ┆ null     ┆ null            ┆ … ┆ null   ┆ null   ┆ null   ┆ null   │\n│ min        ┆ C         ┆ american ┆ charge card     ┆ … ┆ F      ┆ F      ┆ F      ┆ F      │\n│            ┆           ┆ express  ┆                 ┆   ┆        ┆        ┆        ┆        │\n│ 25%        ┆ null      ┆ null     ┆ null            ┆ … ┆ null   ┆ null   ┆ null   ┆ null   │\n│ 50%        ┆ null      ┆ null     ┆ null            ┆ … ┆ null   ┆ null   ┆ null   ┆ null   │\n│ 75%        ┆ null      ┆ null     ┆ null            ┆ … ┆ null   ┆ null   ┆ null   ┆ null   │\n│ max        ┆ W         ┆ visa     ┆ debit or credit ┆ … ┆ T      ┆ T      ┆ T      ┆ T      │\n└────────────┴───────────┴──────────┴─────────────────┴───┴────────┴────────┴────────┴────────┘",
      "text/html": "<div><style>\n.dataframe > thead > tr,\n.dataframe > tbody > tr {\n  text-align: right;\n  white-space: pre-wrap;\n}\n</style>\n<small>shape: (9, 15)</small><table border=\"1\" class=\"dataframe\"><thead><tr><th>statistic</th><th>ProductCD</th><th>card4</th><th>card6</th><th>P_emaildomain</th><th>R_emaildomain</th><th>M1</th><th>M2</th><th>M3</th><th>M4</th><th>M5</th><th>M6</th><th>M7</th><th>M8</th><th>M9</th></tr><tr><td>str</td><td>str</td><td>str</td><td>str</td><td>str</td><td>str</td><td>str</td><td>str</td><td>str</td><td>str</td><td>str</td><td>str</td><td>str</td><td>str</td><td>str</td></tr></thead><tbody><tr><td>&quot;count&quot;</td><td>&quot;590540&quot;</td><td>&quot;588963&quot;</td><td>&quot;588969&quot;</td><td>&quot;496084&quot;</td><td>&quot;137291&quot;</td><td>&quot;319440&quot;</td><td>&quot;319440&quot;</td><td>&quot;319440&quot;</td><td>&quot;309096&quot;</td><td>&quot;240058&quot;</td><td>&quot;421180&quot;</td><td>&quot;244275&quot;</td><td>&quot;244288&quot;</td><td>&quot;244288&quot;</td></tr><tr><td>&quot;null_count&quot;</td><td>&quot;0&quot;</td><td>&quot;1577&quot;</td><td>&quot;1571&quot;</td><td>&quot;94456&quot;</td><td>&quot;453249&quot;</td><td>&quot;271100&quot;</td><td>&quot;271100&quot;</td><td>&quot;271100&quot;</td><td>&quot;281444&quot;</td><td>&quot;350482&quot;</td><td>&quot;169360&quot;</td><td>&quot;346265&quot;</td><td>&quot;346252&quot;</td><td>&quot;346252&quot;</td></tr><tr><td>&quot;mean&quot;</td><td>null</td><td>null</td><td>null</td><td>null</td><td>null</td><td>null</td><td>null</td><td>null</td><td>null</td><td>null</td><td>null</td><td>null</td><td>null</td><td>null</td></tr><tr><td>&quot;std&quot;</td><td>null</td><td>null</td><td>null</td><td>null</td><td>null</td><td>null</td><td>null</td><td>null</td><td>null</td><td>null</td><td>null</td><td>null</td><td>null</td><td>null</td></tr><tr><td>&quot;min&quot;</td><td>&quot;C&quot;</td><td>&quot;american expre…</td><td>&quot;charge card&quot;</td><td>&quot;aim.com&quot;</td><td>&quot;aim.com&quot;</td><td>&quot;F&quot;</td><td>&quot;F&quot;</td><td>&quot;F&quot;</td><td>&quot;M0&quot;</td><td>&quot;F&quot;</td><td>&quot;F&quot;</td><td>&quot;F&quot;</td><td>&quot;F&quot;</td><td>&quot;F&quot;</td></tr><tr><td>&quot;25%&quot;</td><td>null</td><td>null</td><td>null</td><td>null</td><td>null</td><td>null</td><td>null</td><td>null</td><td>null</td><td>null</td><td>null</td><td>null</td><td>null</td><td>null</td></tr><tr><td>&quot;50%&quot;</td><td>null</td><td>null</td><td>null</td><td>null</td><td>null</td><td>null</td><td>null</td><td>null</td><td>null</td><td>null</td><td>null</td><td>null</td><td>null</td><td>null</td></tr><tr><td>&quot;75%&quot;</td><td>null</td><td>null</td><td>null</td><td>null</td><td>null</td><td>null</td><td>null</td><td>null</td><td>null</td><td>null</td><td>null</td><td>null</td><td>null</td><td>null</td></tr><tr><td>&quot;max&quot;</td><td>&quot;W&quot;</td><td>&quot;visa&quot;</td><td>&quot;debit or credi…</td><td>&quot;ymail.com&quot;</td><td>&quot;ymail.com&quot;</td><td>&quot;T&quot;</td><td>&quot;T&quot;</td><td>&quot;T&quot;</td><td>&quot;M2&quot;</td><td>&quot;T&quot;</td><td>&quot;T&quot;</td><td>&quot;T&quot;</td><td>&quot;T&quot;</td><td>&quot;T&quot;</td></tr></tbody></table></div>"
     },
     "execution_count": 66,
     "metadata": {},
     "output_type": "execute_result"
    }
   ],
   "source": [
    "categorical_transactions.describe()"
   ],
   "metadata": {
    "collapsed": false,
    "ExecuteTime": {
     "end_time": "2024-03-13T08:58:10.678441383Z",
     "start_time": "2024-03-13T08:58:10.483200075Z"
    }
   },
   "id": "4eca26d49e393e",
   "execution_count": 66
  },
  {
   "cell_type": "markdown",
   "source": [],
   "metadata": {
    "collapsed": false
   },
   "id": "8970a212a75c0e20"
  },
  {
   "cell_type": "markdown",
   "source": [
    "#### ProductCD"
   ],
   "metadata": {
    "collapsed": false
   },
   "id": "503230855e79f2e6"
  },
  {
   "cell_type": "code",
   "outputs": [
    {
     "data": {
      "text/plain": "shape: (5, 2)\n┌───────────┬────────┐\n│ ProductCD ┆ count  │\n│ ---       ┆ ---    │\n│ str       ┆ u32    │\n╞═══════════╪════════╡\n│ H         ┆ 33024  │\n│ C         ┆ 68519  │\n│ W         ┆ 439670 │\n│ S         ┆ 11628  │\n│ R         ┆ 37699  │\n└───────────┴────────┘",
      "text/html": "<div><style>\n.dataframe > thead > tr,\n.dataframe > tbody > tr {\n  text-align: right;\n  white-space: pre-wrap;\n}\n</style>\n<small>shape: (5, 2)</small><table border=\"1\" class=\"dataframe\"><thead><tr><th>ProductCD</th><th>count</th></tr><tr><td>str</td><td>u32</td></tr></thead><tbody><tr><td>&quot;H&quot;</td><td>33024</td></tr><tr><td>&quot;C&quot;</td><td>68519</td></tr><tr><td>&quot;W&quot;</td><td>439670</td></tr><tr><td>&quot;S&quot;</td><td>11628</td></tr><tr><td>&quot;R&quot;</td><td>37699</td></tr></tbody></table></div>"
     },
     "execution_count": 67,
     "metadata": {},
     "output_type": "execute_result"
    }
   ],
   "source": [
    "transactions.select(\"ProductCD\").collect().to_series().value_counts()"
   ],
   "metadata": {
    "collapsed": false,
    "ExecuteTime": {
     "end_time": "2024-03-13T08:58:10.833100350Z",
     "start_time": "2024-03-13T08:58:10.671865443Z"
    }
   },
   "id": "da76cd2a00f87d60",
   "execution_count": 67
  },
  {
   "cell_type": "markdown",
   "source": [
    "#### card4"
   ],
   "metadata": {
    "collapsed": false
   },
   "id": "dbd80ec6058803b9"
  },
  {
   "cell_type": "code",
   "outputs": [
    {
     "data": {
      "text/plain": "shape: (5, 2)\n┌──────────────────┬────────┐\n│ card4            ┆ count  │\n│ ---              ┆ ---    │\n│ str              ┆ u32    │\n╞══════════════════╪════════╡\n│ mastercard       ┆ 189217 │\n│ null             ┆ 1577   │\n│ american express ┆ 8328   │\n│ visa             ┆ 384767 │\n│ discover         ┆ 6651   │\n└──────────────────┴────────┘",
      "text/html": "<div><style>\n.dataframe > thead > tr,\n.dataframe > tbody > tr {\n  text-align: right;\n  white-space: pre-wrap;\n}\n</style>\n<small>shape: (5, 2)</small><table border=\"1\" class=\"dataframe\"><thead><tr><th>card4</th><th>count</th></tr><tr><td>str</td><td>u32</td></tr></thead><tbody><tr><td>&quot;mastercard&quot;</td><td>189217</td></tr><tr><td>null</td><td>1577</td></tr><tr><td>&quot;american expre…</td><td>8328</td></tr><tr><td>&quot;visa&quot;</td><td>384767</td></tr><tr><td>&quot;discover&quot;</td><td>6651</td></tr></tbody></table></div>"
     },
     "execution_count": 68,
     "metadata": {},
     "output_type": "execute_result"
    }
   ],
   "source": [
    "transactions.select(\"card4\").collect().to_series().value_counts()"
   ],
   "metadata": {
    "collapsed": false,
    "ExecuteTime": {
     "end_time": "2024-03-13T08:58:10.999772514Z",
     "start_time": "2024-03-13T08:58:10.832932814Z"
    }
   },
   "id": "5ff360f8c776e712",
   "execution_count": 68
  },
  {
   "cell_type": "markdown",
   "source": [
    "#### card_6"
   ],
   "metadata": {
    "collapsed": false
   },
   "id": "3674de7d88acc898"
  },
  {
   "cell_type": "code",
   "outputs": [
    {
     "data": {
      "text/plain": "shape: (5, 2)\n┌─────────────────┬────────┐\n│ card6           ┆ count  │\n│ ---             ┆ ---    │\n│ str             ┆ u32    │\n╞═════════════════╪════════╡\n│ debit or credit ┆ 30     │\n│ credit          ┆ 148986 │\n│ charge card     ┆ 15     │\n│ null            ┆ 1571   │\n│ debit           ┆ 439938 │\n└─────────────────┴────────┘",
      "text/html": "<div><style>\n.dataframe > thead > tr,\n.dataframe > tbody > tr {\n  text-align: right;\n  white-space: pre-wrap;\n}\n</style>\n<small>shape: (5, 2)</small><table border=\"1\" class=\"dataframe\"><thead><tr><th>card6</th><th>count</th></tr><tr><td>str</td><td>u32</td></tr></thead><tbody><tr><td>&quot;debit or credi…</td><td>30</td></tr><tr><td>&quot;credit&quot;</td><td>148986</td></tr><tr><td>&quot;charge card&quot;</td><td>15</td></tr><tr><td>null</td><td>1571</td></tr><tr><td>&quot;debit&quot;</td><td>439938</td></tr></tbody></table></div>"
     },
     "execution_count": 69,
     "metadata": {},
     "output_type": "execute_result"
    }
   ],
   "source": [
    "transactions.select(\"card6\").collect().to_series().value_counts()"
   ],
   "metadata": {
    "collapsed": false,
    "ExecuteTime": {
     "end_time": "2024-03-13T08:58:11.173536261Z",
     "start_time": "2024-03-13T08:58:11.000223626Z"
    }
   },
   "id": "87ff82b713a7bee5",
   "execution_count": 69
  },
  {
   "cell_type": "markdown",
   "source": [
    "#### P-emaildomain"
   ],
   "metadata": {
    "collapsed": false
   },
   "id": "6913776d4215db63"
  },
  {
   "cell_type": "code",
   "outputs": [
    {
     "data": {
      "text/plain": "shape: (60, 2)\n┌────────────────┬────────┐\n│ P_emaildomain  ┆ count  │\n│ ---            ┆ ---    │\n│ str            ┆ u32    │\n╞════════════════╪════════╡\n│ outlook.es     ┆ 438    │\n│ yahoo.co.jp    ┆ 32     │\n│ att.net        ┆ 4033   │\n│ sbcglobal.net  ┆ 2970   │\n│ cableone.net   ┆ 159    │\n│ …              ┆ …      │\n│ protonmail.com ┆ 76     │\n│ yahoo.es       ┆ 134    │\n│ netzero.net    ┆ 196    │\n│ msn.com        ┆ 4092   │\n│ gmail.com      ┆ 228355 │\n└────────────────┴────────┘",
      "text/html": "<div><style>\n.dataframe > thead > tr,\n.dataframe > tbody > tr {\n  text-align: right;\n  white-space: pre-wrap;\n}\n</style>\n<small>shape: (60, 2)</small><table border=\"1\" class=\"dataframe\"><thead><tr><th>P_emaildomain</th><th>count</th></tr><tr><td>str</td><td>u32</td></tr></thead><tbody><tr><td>&quot;outlook.es&quot;</td><td>438</td></tr><tr><td>&quot;yahoo.co.jp&quot;</td><td>32</td></tr><tr><td>&quot;att.net&quot;</td><td>4033</td></tr><tr><td>&quot;sbcglobal.net&quot;</td><td>2970</td></tr><tr><td>&quot;cableone.net&quot;</td><td>159</td></tr><tr><td>&hellip;</td><td>&hellip;</td></tr><tr><td>&quot;protonmail.com…</td><td>76</td></tr><tr><td>&quot;yahoo.es&quot;</td><td>134</td></tr><tr><td>&quot;netzero.net&quot;</td><td>196</td></tr><tr><td>&quot;msn.com&quot;</td><td>4092</td></tr><tr><td>&quot;gmail.com&quot;</td><td>228355</td></tr></tbody></table></div>"
     },
     "execution_count": 70,
     "metadata": {},
     "output_type": "execute_result"
    }
   ],
   "source": [
    "transactions.select(\"P_emaildomain\").collect().to_series().value_counts()"
   ],
   "metadata": {
    "collapsed": false,
    "ExecuteTime": {
     "end_time": "2024-03-13T08:58:11.338940852Z",
     "start_time": "2024-03-13T08:58:11.170311040Z"
    }
   },
   "id": "a789b0ff61b6cfa4",
   "execution_count": 70
  },
  {
   "cell_type": "code",
   "outputs": [
    {
     "data": {
      "text/plain": "shape: (590_540, 1)\n┌───────────────┐\n│ P_emaildomain │\n│ ---           │\n│ str           │\n╞═══════════════╡\n│ unknown       │\n│ gmail         │\n│ outlook       │\n│ yahoo         │\n│ gmail         │\n│ …             │\n│ unknown       │\n│ gmail         │\n│ gmail         │\n│ aol           │\n│ gmail         │\n└───────────────┘",
      "text/html": "<div><style>\n.dataframe > thead > tr,\n.dataframe > tbody > tr {\n  text-align: right;\n  white-space: pre-wrap;\n}\n</style>\n<small>shape: (590_540, 1)</small><table border=\"1\" class=\"dataframe\"><thead><tr><th>P_emaildomain</th></tr><tr><td>str</td></tr></thead><tbody><tr><td>&quot;unknown&quot;</td></tr><tr><td>&quot;gmail&quot;</td></tr><tr><td>&quot;outlook&quot;</td></tr><tr><td>&quot;yahoo&quot;</td></tr><tr><td>&quot;gmail&quot;</td></tr><tr><td>&hellip;</td></tr><tr><td>&quot;unknown&quot;</td></tr><tr><td>&quot;gmail&quot;</td></tr><tr><td>&quot;gmail&quot;</td></tr><tr><td>&quot;aol&quot;</td></tr><tr><td>&quot;gmail&quot;</td></tr></tbody></table></div>"
     },
     "execution_count": 71,
     "metadata": {},
     "output_type": "execute_result"
    }
   ],
   "source": [
    "transactions.select(\"P_emaildomain\").with_columns(\n",
    "    pl.col(\"P_emaildomain\").str.split(\".\").list.first().fill_null(\"unknown\")\n",
    ").collect()"
   ],
   "metadata": {
    "collapsed": false,
    "ExecuteTime": {
     "end_time": "2024-03-13T08:58:11.538349019Z",
     "start_time": "2024-03-13T08:58:11.336064489Z"
    }
   },
   "id": "dfd28267f8de985c",
   "execution_count": 71
  },
  {
   "cell_type": "markdown",
   "source": [
    "#### R_emaildomain"
   ],
   "metadata": {
    "collapsed": false
   },
   "id": "3b146ce89b632df7"
  },
  {
   "cell_type": "code",
   "outputs": [
    {
     "data": {
      "text/plain": "shape: (61, 2)\n┌─────────────────┬────────┐\n│ R_emaildomain   ┆ count  │\n│ ---             ┆ ---    │\n│ str             ┆ u32    │\n╞═════════════════╪════════╡\n│ null            ┆ 453249 │\n│ gmail.com       ┆ 57147  │\n│ hotmail.com     ┆ 27509  │\n│ anonymous.com   ┆ 20529  │\n│ yahoo.com       ┆ 11842  │\n│ …               ┆ …      │\n│ frontiernet.net ┆ 14     │\n│ netzero.com     ┆ 14     │\n│ centurylink.net ┆ 12     │\n│ netzero.net     ┆ 9      │\n│ sc.rr.com       ┆ 8      │\n└─────────────────┴────────┘",
      "text/html": "<div><style>\n.dataframe > thead > tr,\n.dataframe > tbody > tr {\n  text-align: right;\n  white-space: pre-wrap;\n}\n</style>\n<small>shape: (61, 2)</small><table border=\"1\" class=\"dataframe\"><thead><tr><th>R_emaildomain</th><th>count</th></tr><tr><td>str</td><td>u32</td></tr></thead><tbody><tr><td>null</td><td>453249</td></tr><tr><td>&quot;gmail.com&quot;</td><td>57147</td></tr><tr><td>&quot;hotmail.com&quot;</td><td>27509</td></tr><tr><td>&quot;anonymous.com&quot;</td><td>20529</td></tr><tr><td>&quot;yahoo.com&quot;</td><td>11842</td></tr><tr><td>&hellip;</td><td>&hellip;</td></tr><tr><td>&quot;frontiernet.ne…</td><td>14</td></tr><tr><td>&quot;netzero.com&quot;</td><td>14</td></tr><tr><td>&quot;centurylink.ne…</td><td>12</td></tr><tr><td>&quot;netzero.net&quot;</td><td>9</td></tr><tr><td>&quot;sc.rr.com&quot;</td><td>8</td></tr></tbody></table></div>"
     },
     "execution_count": 72,
     "metadata": {},
     "output_type": "execute_result"
    }
   ],
   "source": [
    "transactions.select(\"R_emaildomain\").collect().to_series().value_counts(sort=True)"
   ],
   "metadata": {
    "collapsed": false,
    "ExecuteTime": {
     "end_time": "2024-03-13T08:58:11.705309347Z",
     "start_time": "2024-03-13T08:58:11.539402238Z"
    }
   },
   "id": "24c538dee5bfb45f",
   "execution_count": 72
  },
  {
   "cell_type": "code",
   "outputs": [
    {
     "data": {
      "text/plain": "shape: (590_540, 1)\n┌───────────────┐\n│ R_emaildomain │\n│ ---           │\n│ str           │\n╞═══════════════╡\n│ unknown       │\n│ unknown       │\n│ unknown       │\n│ unknown       │\n│ unknown       │\n│ …             │\n│ unknown       │\n│ unknown       │\n│ unknown       │\n│ unknown       │\n│ unknown       │\n└───────────────┘",
      "text/html": "<div><style>\n.dataframe > thead > tr,\n.dataframe > tbody > tr {\n  text-align: right;\n  white-space: pre-wrap;\n}\n</style>\n<small>shape: (590_540, 1)</small><table border=\"1\" class=\"dataframe\"><thead><tr><th>R_emaildomain</th></tr><tr><td>str</td></tr></thead><tbody><tr><td>&quot;unknown&quot;</td></tr><tr><td>&quot;unknown&quot;</td></tr><tr><td>&quot;unknown&quot;</td></tr><tr><td>&quot;unknown&quot;</td></tr><tr><td>&quot;unknown&quot;</td></tr><tr><td>&hellip;</td></tr><tr><td>&quot;unknown&quot;</td></tr><tr><td>&quot;unknown&quot;</td></tr><tr><td>&quot;unknown&quot;</td></tr><tr><td>&quot;unknown&quot;</td></tr><tr><td>&quot;unknown&quot;</td></tr></tbody></table></div>"
     },
     "execution_count": 73,
     "metadata": {},
     "output_type": "execute_result"
    }
   ],
   "source": [
    "transactions.select(\"R_emaildomain\").with_columns(\n",
    "    pl.col(\"R_emaildomain\").str.split(\".\").list.first().fill_null(\"unknown\")\n",
    ").collect()"
   ],
   "metadata": {
    "collapsed": false,
    "ExecuteTime": {
     "end_time": "2024-03-13T08:58:11.892713333Z",
     "start_time": "2024-03-13T08:58:11.705932814Z"
    }
   },
   "id": "a8abf93531624b7",
   "execution_count": 73
  },
  {
   "cell_type": "markdown",
   "source": [
    "#### M1 to M9"
   ],
   "metadata": {
    "collapsed": false
   },
   "id": "9befcde68037ebb7"
  },
  {
   "cell_type": "code",
   "outputs": [],
   "source": [
    "for index in range(1, 10):\n",
    "    transactions = transactions.with_columns(\n",
    "        pl.col(f\"M{index}\").fill_null(\"unknown\")\n",
    "    )"
   ],
   "metadata": {
    "collapsed": false,
    "ExecuteTime": {
     "end_time": "2024-03-13T08:58:11.988837928Z",
     "start_time": "2024-03-13T08:58:11.893592754Z"
    }
   },
   "id": "a220765047ac99d4",
   "execution_count": 74
  },
  {
   "cell_type": "code",
   "outputs": [],
   "source": [
    "def convert_categorical_columns(dataframe: pl.LazyFrame) -> pl.LazyFrame:\n",
    "    transforms: list[pl.Expr] = []\n",
    "    for index in range(1, 10):\n",
    "        transforms.append(\n",
    "            pl.col(f\"M{index}\").fill_null(\"unknown\")\n",
    "        )\n",
    "        \n",
    "    for column in [\"card4\", \"card6\", \"ProductCD\"]:\n",
    "        transforms.append(\n",
    "            pl.col(column).fill_null(\"unknown\")\n",
    "        )\n",
    "        \n",
    "    return dataframe.with_columns(\n",
    "        *transforms,\n",
    "        pl.col(\"R_emaildomain\").str.split(\".\").list.first().fill_null(\"unknown\"),\n",
    "        pl.col(\"P_emaildomain\").str.split(\".\").list.first().fill_null(\"unknown\")\n",
    "    )"
   ],
   "metadata": {
    "collapsed": false,
    "ExecuteTime": {
     "end_time": "2024-03-13T08:58:11.989642297Z",
     "start_time": "2024-03-13T08:58:11.935073442Z"
    }
   },
   "id": "8b39b42b35f16606",
   "execution_count": 75
  },
  {
   "cell_type": "code",
   "outputs": [
    {
     "data": {
      "text/plain": "shape: (9, 395)\n┌───────────┬───────────┬──────────┬───────────┬───┬───────────┬───────────┬───────────┬───────────┐\n│ statistic ┆ Transacti ┆ isFraud  ┆ Transacti ┆ … ┆ V336      ┆ V337      ┆ V338      ┆ V339      │\n│ ---       ┆ onID      ┆ ---      ┆ onDT      ┆   ┆ ---       ┆ ---       ┆ ---       ┆ ---       │\n│ str       ┆ ---       ┆ f64      ┆ ---       ┆   ┆ f64       ┆ f64       ┆ f64       ┆ f64       │\n│           ┆ f64       ┆          ┆ f64       ┆   ┆           ┆           ┆           ┆           │\n╞═══════════╪═══════════╪══════════╪═══════════╪═══╪═══════════╪═══════════╪═══════════╪═══════════╡\n│ count     ┆ 590540.0  ┆ 590540.0 ┆ 590540.0  ┆ … ┆ 82351.0   ┆ 82351.0   ┆ 82351.0   ┆ 82351.0   │\n│ null_coun ┆ 0.0       ┆ 0.0      ┆ 0.0       ┆ … ┆ 508189.0  ┆ 508189.0  ┆ 508189.0  ┆ 508189.0  │\n│ t         ┆           ┆          ┆           ┆   ┆           ┆           ┆           ┆           │\n│ mean      ┆ 3282269.5 ┆ 0.03499  ┆ 7.3723e6  ┆ … ┆ 28.530903 ┆ 55.352422 ┆ 151.16054 ┆ 100.70088 │\n│           ┆           ┆          ┆           ┆   ┆           ┆           ┆ 2         ┆ 2         │\n│ std       ┆ 170474.35 ┆ 0.183755 ┆ 4.6172e6  ┆ … ┆ 274.57692 ┆ 668.48683 ┆ 1095.0343 ┆ 814.94672 │\n│           ┆ 8321      ┆          ┆           ┆   ┆           ┆ 3         ┆ 87        ┆ 2         │\n│ min       ┆ 2.987e6   ┆ 0.0      ┆ 86400.0   ┆ … ┆ 0.0       ┆ 0.0       ┆ 0.0       ┆ 0.0       │\n│ 25%       ┆ 3.134635e ┆ 0.0      ┆ 3.027065e ┆ … ┆ 0.0       ┆ 0.0       ┆ 0.0       ┆ 0.0       │\n│           ┆ 6         ┆          ┆ 6         ┆   ┆           ┆           ┆           ┆           │\n│ 50%       ┆ 3.28227e6 ┆ 0.0      ┆ 7.306535e ┆ … ┆ 0.0       ┆ 0.0       ┆ 0.0       ┆ 0.0       │\n│           ┆           ┆          ┆ 6         ┆   ┆           ┆           ┆           ┆           │\n│ 75%       ┆ 3.429904e ┆ 0.0      ┆ 1.1246605 ┆ … ┆ 0.0       ┆ 0.0       ┆ 0.0       ┆ 0.0       │\n│           ┆ 6         ┆          ┆ e7        ┆   ┆           ┆           ┆           ┆           │\n│ max       ┆ 3.577539e ┆ 1.0      ┆ 1.5811131 ┆ … ┆ 55125.0   ┆ 104060.0  ┆ 104060.0  ┆ 104060.0  │\n│           ┆ 6         ┆          ┆ e7        ┆   ┆           ┆           ┆           ┆           │\n└───────────┴───────────┴──────────┴───────────┴───┴───────────┴───────────┴───────────┴───────────┘",
      "text/html": "<div><style>\n.dataframe > thead > tr,\n.dataframe > tbody > tr {\n  text-align: right;\n  white-space: pre-wrap;\n}\n</style>\n<small>shape: (9, 395)</small><table border=\"1\" class=\"dataframe\"><thead><tr><th>statistic</th><th>TransactionID</th><th>isFraud</th><th>TransactionDT</th><th>TransactionAmt</th><th>ProductCD</th><th>card1</th><th>card2</th><th>card3</th><th>card4</th><th>card5</th><th>card6</th><th>addr1</th><th>addr2</th><th>dist1</th><th>dist2</th><th>P_emaildomain</th><th>R_emaildomain</th><th>C1</th><th>C2</th><th>C3</th><th>C4</th><th>C5</th><th>C6</th><th>C7</th><th>C8</th><th>C9</th><th>C10</th><th>C11</th><th>C12</th><th>C13</th><th>C14</th><th>D1</th><th>D2</th><th>D3</th><th>D4</th><th>D5</th><th>&hellip;</th><th>V303</th><th>V304</th><th>V305</th><th>V306</th><th>V307</th><th>V308</th><th>V309</th><th>V310</th><th>V311</th><th>V312</th><th>V313</th><th>V314</th><th>V315</th><th>V316</th><th>V317</th><th>V318</th><th>V319</th><th>V320</th><th>V321</th><th>V322</th><th>V323</th><th>V324</th><th>V325</th><th>V326</th><th>V327</th><th>V328</th><th>V329</th><th>V330</th><th>V331</th><th>V332</th><th>V333</th><th>V334</th><th>V335</th><th>V336</th><th>V337</th><th>V338</th><th>V339</th></tr><tr><td>str</td><td>f64</td><td>f64</td><td>f64</td><td>f64</td><td>str</td><td>f64</td><td>f64</td><td>f64</td><td>str</td><td>f64</td><td>str</td><td>f64</td><td>f64</td><td>f64</td><td>f64</td><td>str</td><td>str</td><td>f64</td><td>f64</td><td>f64</td><td>f64</td><td>f64</td><td>f64</td><td>f64</td><td>f64</td><td>f64</td><td>f64</td><td>f64</td><td>f64</td><td>f64</td><td>f64</td><td>f64</td><td>f64</td><td>f64</td><td>f64</td><td>f64</td><td>&hellip;</td><td>f64</td><td>f64</td><td>f64</td><td>f64</td><td>f64</td><td>f64</td><td>f64</td><td>f64</td><td>f64</td><td>f64</td><td>f64</td><td>f64</td><td>f64</td><td>f64</td><td>f64</td><td>f64</td><td>f64</td><td>f64</td><td>f64</td><td>f64</td><td>f64</td><td>f64</td><td>f64</td><td>f64</td><td>f64</td><td>f64</td><td>f64</td><td>f64</td><td>f64</td><td>f64</td><td>f64</td><td>f64</td><td>f64</td><td>f64</td><td>f64</td><td>f64</td><td>f64</td></tr></thead><tbody><tr><td>&quot;count&quot;</td><td>590540.0</td><td>590540.0</td><td>590540.0</td><td>590540.0</td><td>&quot;590540&quot;</td><td>590540.0</td><td>581607.0</td><td>588975.0</td><td>&quot;590540&quot;</td><td>586281.0</td><td>&quot;590540&quot;</td><td>524834.0</td><td>524834.0</td><td>238269.0</td><td>37627.0</td><td>&quot;590540&quot;</td><td>&quot;590540&quot;</td><td>590540.0</td><td>590540.0</td><td>590540.0</td><td>590540.0</td><td>590540.0</td><td>590540.0</td><td>590540.0</td><td>590540.0</td><td>590540.0</td><td>590540.0</td><td>590540.0</td><td>590540.0</td><td>590540.0</td><td>590540.0</td><td>589271.0</td><td>309743.0</td><td>327662.0</td><td>421618.0</td><td>280699.0</td><td>&hellip;</td><td>590528.0</td><td>590528.0</td><td>590528.0</td><td>590528.0</td><td>590528.0</td><td>590528.0</td><td>590528.0</td><td>590528.0</td><td>590528.0</td><td>590528.0</td><td>589271.0</td><td>589271.0</td><td>589271.0</td><td>590528.0</td><td>590528.0</td><td>590528.0</td><td>590528.0</td><td>590528.0</td><td>590528.0</td><td>82351.0</td><td>82351.0</td><td>82351.0</td><td>82351.0</td><td>82351.0</td><td>82351.0</td><td>82351.0</td><td>82351.0</td><td>82351.0</td><td>82351.0</td><td>82351.0</td><td>82351.0</td><td>82351.0</td><td>82351.0</td><td>82351.0</td><td>82351.0</td><td>82351.0</td><td>82351.0</td></tr><tr><td>&quot;null_count&quot;</td><td>0.0</td><td>0.0</td><td>0.0</td><td>0.0</td><td>&quot;0&quot;</td><td>0.0</td><td>8933.0</td><td>1565.0</td><td>&quot;0&quot;</td><td>4259.0</td><td>&quot;0&quot;</td><td>65706.0</td><td>65706.0</td><td>352271.0</td><td>552913.0</td><td>&quot;0&quot;</td><td>&quot;0&quot;</td><td>0.0</td><td>0.0</td><td>0.0</td><td>0.0</td><td>0.0</td><td>0.0</td><td>0.0</td><td>0.0</td><td>0.0</td><td>0.0</td><td>0.0</td><td>0.0</td><td>0.0</td><td>0.0</td><td>1269.0</td><td>280797.0</td><td>262878.0</td><td>168922.0</td><td>309841.0</td><td>&hellip;</td><td>12.0</td><td>12.0</td><td>12.0</td><td>12.0</td><td>12.0</td><td>12.0</td><td>12.0</td><td>12.0</td><td>12.0</td><td>12.0</td><td>1269.0</td><td>1269.0</td><td>1269.0</td><td>12.0</td><td>12.0</td><td>12.0</td><td>12.0</td><td>12.0</td><td>12.0</td><td>508189.0</td><td>508189.0</td><td>508189.0</td><td>508189.0</td><td>508189.0</td><td>508189.0</td><td>508189.0</td><td>508189.0</td><td>508189.0</td><td>508189.0</td><td>508189.0</td><td>508189.0</td><td>508189.0</td><td>508189.0</td><td>508189.0</td><td>508189.0</td><td>508189.0</td><td>508189.0</td></tr><tr><td>&quot;mean&quot;</td><td>3282269.5</td><td>0.03499</td><td>7.3723e6</td><td>135.027176</td><td>null</td><td>9898.734658</td><td>362.555488</td><td>153.194925</td><td>null</td><td>199.278897</td><td>null</td><td>290.733794</td><td>86.80063</td><td>118.50218</td><td>231.855423</td><td>null</td><td>null</td><td>14.092458</td><td>15.269734</td><td>0.005644</td><td>4.092185</td><td>5.571526</td><td>9.071082</td><td>2.848478</td><td>5.144574</td><td>4.48024</td><td>5.240343</td><td>10.241521</td><td>4.076227</td><td>32.539918</td><td>8.295215</td><td>94.347568</td><td>169.563231</td><td>28.343348</td><td>140.002441</td><td>42.335965</td><td>&hellip;</td><td>0.28314</td><td>0.264208</td><td>1.000007</td><td>139.748713</td><td>408.682375</td><td>230.41318</td><td>10.995986</td><td>118.195658</td><td>4.202175</td><td>39.17391</td><td>21.351473</td><td>43.319174</td><td>26.806977</td><td>109.818544</td><td>247.606741</td><td>162.153398</td><td>18.372476</td><td>42.073133</td><td>28.326584</td><td>6.220289</td><td>13.103775</td><td>9.184612</td><td>0.058494</td><td>0.85104</td><td>0.296633</td><td>0.33679</td><td>1.312844</td><td>0.775874</td><td>721.741883</td><td>1375.783644</td><td>1014.622782</td><td>9.807015</td><td>59.16455</td><td>28.530903</td><td>55.352422</td><td>151.160542</td><td>100.700882</td></tr><tr><td>&quot;std&quot;</td><td>170474.358321</td><td>0.183755</td><td>4.6172e6</td><td>239.162522</td><td>null</td><td>4901.170153</td><td>157.793246</td><td>11.336444</td><td>null</td><td>41.244453</td><td>null</td><td>101.741072</td><td>2.690623</td><td>371.872026</td><td>529.053494</td><td>null</td><td>null</td><td>133.569018</td><td>154.668899</td><td>0.150536</td><td>68.848459</td><td>25.786976</td><td>71.508467</td><td>61.727304</td><td>95.378574</td><td>16.674897</td><td>95.581443</td><td>94.336292</td><td>86.666218</td><td>129.364844</td><td>49.544262</td><td>157.660387</td><td>177.315865</td><td>62.384721</td><td>191.096774</td><td>89.000144</td><td>&hellip;</td><td>0.623608</td><td>0.528238</td><td>0.002603</td><td>2348.849634</td><td>4391.992977</td><td>3021.924247</td><td>116.254277</td><td>352.983093</td><td>102.374938</td><td>172.128339</td><td>95.90297</td><td>173.619028</td><td>116.853222</td><td>2270.033202</td><td>3980.042828</td><td>2793.343636</td><td>332.304848</td><td>473.499307</td><td>382.053171</td><td>56.022561</td><td>106.739813</td><td>73.627893</td><td>0.304415</td><td>3.950295</td><td>1.364356</td><td>1.580144</td><td>8.769083</td><td>4.727971</td><td>6217.223583</td><td>11169.275702</td><td>7955.735482</td><td>243.861391</td><td>387.62948</td><td>274.57692</td><td>668.486833</td><td>1095.034387</td><td>814.946722</td></tr><tr><td>&quot;min&quot;</td><td>2.987e6</td><td>0.0</td><td>86400.0</td><td>0.251</td><td>&quot;C&quot;</td><td>1000.0</td><td>100.0</td><td>100.0</td><td>&quot;american expre…</td><td>100.0</td><td>&quot;charge card&quot;</td><td>100.0</td><td>10.0</td><td>0.0</td><td>0.0</td><td>&quot;aim&quot;</td><td>&quot;aim&quot;</td><td>0.0</td><td>0.0</td><td>0.0</td><td>0.0</td><td>0.0</td><td>0.0</td><td>0.0</td><td>0.0</td><td>0.0</td><td>0.0</td><td>0.0</td><td>0.0</td><td>0.0</td><td>0.0</td><td>0.0</td><td>0.0</td><td>0.0</td><td>-122.0</td><td>0.0</td><td>&hellip;</td><td>0.0</td><td>0.0</td><td>1.0</td><td>0.0</td><td>0.0</td><td>0.0</td><td>0.0</td><td>0.0</td><td>0.0</td><td>0.0</td><td>0.0</td><td>0.0</td><td>0.0</td><td>0.0</td><td>0.0</td><td>0.0</td><td>0.0</td><td>0.0</td><td>0.0</td><td>0.0</td><td>0.0</td><td>0.0</td><td>0.0</td><td>0.0</td><td>0.0</td><td>0.0</td><td>0.0</td><td>0.0</td><td>0.0</td><td>0.0</td><td>0.0</td><td>0.0</td><td>0.0</td><td>0.0</td><td>0.0</td><td>0.0</td><td>0.0</td></tr><tr><td>&quot;25%&quot;</td><td>3.134635e6</td><td>0.0</td><td>3.027065e6</td><td>43.321</td><td>null</td><td>6019.0</td><td>214.0</td><td>150.0</td><td>null</td><td>166.0</td><td>null</td><td>204.0</td><td>87.0</td><td>3.0</td><td>7.0</td><td>null</td><td>null</td><td>1.0</td><td>1.0</td><td>0.0</td><td>0.0</td><td>0.0</td><td>1.0</td><td>0.0</td><td>0.0</td><td>0.0</td><td>0.0</td><td>1.0</td><td>0.0</td><td>1.0</td><td>1.0</td><td>0.0</td><td>26.0</td><td>1.0</td><td>0.0</td><td>1.0</td><td>&hellip;</td><td>0.0</td><td>0.0</td><td>1.0</td><td>0.0</td><td>0.0</td><td>0.0</td><td>0.0</td><td>0.0</td><td>0.0</td><td>0.0</td><td>0.0</td><td>0.0</td><td>0.0</td><td>0.0</td><td>0.0</td><td>0.0</td><td>0.0</td><td>0.0</td><td>0.0</td><td>0.0</td><td>0.0</td><td>0.0</td><td>0.0</td><td>0.0</td><td>0.0</td><td>0.0</td><td>0.0</td><td>0.0</td><td>0.0</td><td>0.0</td><td>0.0</td><td>0.0</td><td>0.0</td><td>0.0</td><td>0.0</td><td>0.0</td><td>0.0</td></tr><tr><td>&quot;50%&quot;</td><td>3.28227e6</td><td>0.0</td><td>7.306535e6</td><td>68.78</td><td>null</td><td>9678.0</td><td>361.0</td><td>150.0</td><td>null</td><td>226.0</td><td>null</td><td>299.0</td><td>87.0</td><td>8.0</td><td>37.0</td><td>null</td><td>null</td><td>1.0</td><td>1.0</td><td>0.0</td><td>0.0</td><td>0.0</td><td>1.0</td><td>0.0</td><td>0.0</td><td>1.0</td><td>0.0</td><td>1.0</td><td>0.0</td><td>3.0</td><td>1.0</td><td>3.0</td><td>97.0</td><td>8.0</td><td>26.0</td><td>10.0</td><td>&hellip;</td><td>0.0</td><td>0.0</td><td>1.0</td><td>0.0</td><td>0.0</td><td>0.0</td><td>0.0</td><td>0.0</td><td>0.0</td><td>0.0</td><td>0.0</td><td>0.0</td><td>0.0</td><td>0.0</td><td>0.0</td><td>0.0</td><td>0.0</td><td>0.0</td><td>0.0</td><td>0.0</td><td>0.0</td><td>0.0</td><td>0.0</td><td>0.0</td><td>0.0</td><td>0.0</td><td>0.0</td><td>0.0</td><td>0.0</td><td>0.0</td><td>0.0</td><td>0.0</td><td>0.0</td><td>0.0</td><td>0.0</td><td>0.0</td><td>0.0</td></tr><tr><td>&quot;75%&quot;</td><td>3.429904e6</td><td>0.0</td><td>1.1246605e7</td><td>125.0</td><td>null</td><td>14184.0</td><td>512.0</td><td>150.0</td><td>null</td><td>226.0</td><td>null</td><td>330.0</td><td>87.0</td><td>24.0</td><td>206.0</td><td>null</td><td>null</td><td>3.0</td><td>3.0</td><td>0.0</td><td>0.0</td><td>1.0</td><td>2.0</td><td>0.0</td><td>0.0</td><td>2.0</td><td>0.0</td><td>2.0</td><td>0.0</td><td>12.0</td><td>2.0</td><td>122.0</td><td>276.0</td><td>27.0</td><td>253.0</td><td>32.0</td><td>&hellip;</td><td>0.0</td><td>0.0</td><td>1.0</td><td>0.0</td><td>151.380005</td><td>35.970001</td><td>0.0</td><td>107.949997</td><td>0.0</td><td>0.0</td><td>0.0</td><td>0.0</td><td>0.0</td><td>0.0</td><td>0.0</td><td>0.0</td><td>0.0</td><td>0.0</td><td>0.0</td><td>0.0</td><td>1.0</td><td>0.0</td><td>0.0</td><td>0.0</td><td>0.0</td><td>0.0</td><td>0.0</td><td>0.0</td><td>0.0</td><td>25.0</td><td>0.0</td><td>0.0</td><td>0.0</td><td>0.0</td><td>0.0</td><td>0.0</td><td>0.0</td></tr><tr><td>&quot;max&quot;</td><td>3.577539e6</td><td>1.0</td><td>1.5811131e7</td><td>31937.391</td><td>&quot;W&quot;</td><td>18396.0</td><td>600.0</td><td>231.0</td><td>&quot;visa&quot;</td><td>237.0</td><td>&quot;unknown&quot;</td><td>540.0</td><td>102.0</td><td>10286.0</td><td>11623.0</td><td>&quot;ymail&quot;</td><td>&quot;ymail&quot;</td><td>4685.0</td><td>5691.0</td><td>26.0</td><td>2253.0</td><td>349.0</td><td>2253.0</td><td>2255.0</td><td>3331.0</td><td>210.0</td><td>3257.0</td><td>3188.0</td><td>3188.0</td><td>2918.0</td><td>1429.0</td><td>640.0</td><td>640.0</td><td>819.0</td><td>869.0</td><td>819.0</td><td>&hellip;</td><td>20.0</td><td>16.0</td><td>2.0</td><td>108800.0</td><td>145765.0</td><td>108800.0</td><td>55125.0</td><td>55125.0</td><td>55125.0</td><td>55125.0</td><td>4817.470215</td><td>7519.870117</td><td>4817.470215</td><td>93736.0</td><td>134021.0</td><td>98476.0</td><td>104060.0</td><td>104060.0</td><td>104060.0</td><td>880.0</td><td>1411.0</td><td>976.0</td><td>12.0</td><td>44.0</td><td>18.0</td><td>15.0</td><td>99.0</td><td>55.0</td><td>160000.0</td><td>160000.0</td><td>160000.0</td><td>55125.0</td><td>55125.0</td><td>55125.0</td><td>104060.0</td><td>104060.0</td><td>104060.0</td></tr></tbody></table></div>"
     },
     "execution_count": 76,
     "metadata": {},
     "output_type": "execute_result"
    }
   ],
   "source": [
    "transactions = convert_categorical_columns(transactions)\n",
    "transactions.describe()"
   ],
   "metadata": {
    "collapsed": false,
    "ExecuteTime": {
     "end_time": "2024-03-13T08:58:14.415344192Z",
     "start_time": "2024-03-13T08:58:11.935370773Z"
    }
   },
   "id": "fc307f821bf925df",
   "execution_count": 76
  },
  {
   "cell_type": "code",
   "outputs": [],
   "source": [
    "transactions = transactions.with_columns(\n",
    "    *[pl.col(col).fill_null(pl.col(col).median()) for col in transactions.select(pl.col(pl.NUMERIC_DTYPES)).columns]\n",
    ")"
   ],
   "metadata": {
    "collapsed": false,
    "ExecuteTime": {
     "end_time": "2024-03-13T08:58:14.420328234Z",
     "start_time": "2024-03-13T08:58:14.416315917Z"
    }
   },
   "id": "ce721ebb4085338d",
   "execution_count": 77
  }
 ],
 "metadata": {
  "kernelspec": {
   "display_name": "Python 3",
   "language": "python",
   "name": "python3"
  },
  "language_info": {
   "codemirror_mode": {
    "name": "ipython",
    "version": 2
   },
   "file_extension": ".py",
   "mimetype": "text/x-python",
   "name": "python",
   "nbconvert_exporter": "python",
   "pygments_lexer": "ipython2",
   "version": "2.7.6"
  }
 },
 "nbformat": 4,
 "nbformat_minor": 5
}
